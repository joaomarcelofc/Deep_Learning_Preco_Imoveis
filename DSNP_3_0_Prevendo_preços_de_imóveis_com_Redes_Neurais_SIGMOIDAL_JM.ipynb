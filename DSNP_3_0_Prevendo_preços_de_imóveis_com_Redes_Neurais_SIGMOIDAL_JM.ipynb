{
  "nbformat": 4,
  "nbformat_minor": 0,
  "metadata": {
    "colab": {
      "provenance": []
    },
    "kernelspec": {
      "name": "python3",
      "display_name": "Python 3"
    },
    "accelerator": "GPU",
    "gpuClass": "standard"
  },
  "cells": [
    {
      "cell_type": "markdown",
      "metadata": {
        "id": "8cikxhCV7Zjo"
      },
      "source": [
        "<img alt=\"Colaboratory logo\" width=\"15%\" src=\"https://raw.githubusercontent.com/carlosfab/escola-data-science/master/img/novo_logo_bg_claro.png\">\n",
        "\n",
        "#### **Data Science na Prática 3.0**\n",
        "*by [sigmoidal.ai](https://sigmoidal.ai)*\n",
        "\n",
        "---\n"
      ]
    },
    {
      "cell_type": "markdown",
      "metadata": {
        "id": "bqjlUbCzeUDi"
      },
      "source": [
        "# Prevendo preços de imóveis com Redes Neurais\n",
        "\n",
        "Para demonstrar como as redes neurais podem ser usadas para um problema de regressão, para prever preços de venda de imóveis, vou usar o conhecido *dataset* California housing.\n",
        "\n",
        "<center><img src=\"https://www.wartsila.com/images/default-source/default-album/california_housing.tmb-1920x690.jpg?sfvrsn=126bc44_1\" width=\"80%\"></center>\n",
        "\n",
        "\n",
        "\n",
        "A maneira que iremos construir a arquitetura de redes neurais é por meio da API `Sequential` do `keras`.\n"
      ]
    },
    {
      "cell_type": "code",
      "metadata": {
        "id": "kX1Axbt3fkqI",
        "colab": {
          "base_uri": "https://localhost:8080/"
        },
        "outputId": "713e8e5e-9448-47d4-fff8-3a647dde7dd9"
      },
      "source": [
        "# importar as bibliotecas necessárias\n",
        "%tensorflow_version 2.x\n",
        "import tensorflow as tf\n",
        "from tensorflow import keras\n",
        "from sklearn.model_selection import train_test_split\n",
        "from sklearn.preprocessing import StandardScaler\n",
        "import pandas as pd"
      ],
      "execution_count": 1,
      "outputs": [
        {
          "output_type": "stream",
          "name": "stdout",
          "text": [
            "Colab only includes TensorFlow 2.x; %tensorflow_version has no effect.\n"
          ]
        }
      ]
    },
    {
      "cell_type": "markdown",
      "metadata": {
        "id": "qz4Tspkz73sj"
      },
      "source": [
        "Uma vez importados todos os pacotes necessários, é hora de carregarmos os dados e começarmos o nosso projeto!\n",
        "\n",
        "Para isso, utilizaremos um dataset do próprio `sklearn.dataset`, o `California Housing`."
      ]
    },
    {
      "cell_type": "code",
      "metadata": {
        "id": "J2eTwcOQj1kr"
      },
      "source": [
        "# baixar os dados\n",
        "from sklearn.datasets import fetch_california_housing\n",
        "housing = fetch_california_housing()\n",
        "feature_names = housing['feature_names']\n",
        "feature_names.append('Target')"
      ],
      "execution_count": 2,
      "outputs": []
    },
    {
      "cell_type": "markdown",
      "metadata": {
        "id": "eqldZdYd9f4w"
      },
      "source": [
        "Além disso, precisamos transformar esse conjunto em um DataFrame dentro do Pandas.\n",
        "\n",
        "Podemos fazer isso com a sequência de código abaixo:"
      ]
    },
    {
      "cell_type": "code",
      "metadata": {
        "id": "dMVSOw9d1k6Z",
        "colab": {
          "base_uri": "https://localhost:8080/",
          "height": 206
        },
        "outputId": "1f236060-f404-47fc-81c0-7ea676c032ae"
      },
      "source": [
        "# converter dados em DataFrame\n",
        "df = pd.concat([pd.DataFrame(housing.data), pd.Series(housing.target)], axis=1)\n",
        "df.columns = feature_names\n",
        "\n",
        "# ver as 5 primeiras entradas\n",
        "df.head()"
      ],
      "execution_count": 3,
      "outputs": [
        {
          "output_type": "execute_result",
          "data": {
            "text/plain": [
              "   MedInc  HouseAge  AveRooms  AveBedrms  Population  AveOccup  Latitude  \\\n",
              "0  8.3252      41.0  6.984127   1.023810       322.0  2.555556     37.88   \n",
              "1  8.3014      21.0  6.238137   0.971880      2401.0  2.109842     37.86   \n",
              "2  7.2574      52.0  8.288136   1.073446       496.0  2.802260     37.85   \n",
              "3  5.6431      52.0  5.817352   1.073059       558.0  2.547945     37.85   \n",
              "4  3.8462      52.0  6.281853   1.081081       565.0  2.181467     37.85   \n",
              "\n",
              "   Longitude  Target  \n",
              "0    -122.23   4.526  \n",
              "1    -122.22   3.585  \n",
              "2    -122.24   3.521  \n",
              "3    -122.25   3.413  \n",
              "4    -122.25   3.422  "
            ],
            "text/html": [
              "\n",
              "  <div id=\"df-dcd39c8f-8530-4e7c-9785-32bd53e299de\">\n",
              "    <div class=\"colab-df-container\">\n",
              "      <div>\n",
              "<style scoped>\n",
              "    .dataframe tbody tr th:only-of-type {\n",
              "        vertical-align: middle;\n",
              "    }\n",
              "\n",
              "    .dataframe tbody tr th {\n",
              "        vertical-align: top;\n",
              "    }\n",
              "\n",
              "    .dataframe thead th {\n",
              "        text-align: right;\n",
              "    }\n",
              "</style>\n",
              "<table border=\"1\" class=\"dataframe\">\n",
              "  <thead>\n",
              "    <tr style=\"text-align: right;\">\n",
              "      <th></th>\n",
              "      <th>MedInc</th>\n",
              "      <th>HouseAge</th>\n",
              "      <th>AveRooms</th>\n",
              "      <th>AveBedrms</th>\n",
              "      <th>Population</th>\n",
              "      <th>AveOccup</th>\n",
              "      <th>Latitude</th>\n",
              "      <th>Longitude</th>\n",
              "      <th>Target</th>\n",
              "    </tr>\n",
              "  </thead>\n",
              "  <tbody>\n",
              "    <tr>\n",
              "      <th>0</th>\n",
              "      <td>8.3252</td>\n",
              "      <td>41.0</td>\n",
              "      <td>6.984127</td>\n",
              "      <td>1.023810</td>\n",
              "      <td>322.0</td>\n",
              "      <td>2.555556</td>\n",
              "      <td>37.88</td>\n",
              "      <td>-122.23</td>\n",
              "      <td>4.526</td>\n",
              "    </tr>\n",
              "    <tr>\n",
              "      <th>1</th>\n",
              "      <td>8.3014</td>\n",
              "      <td>21.0</td>\n",
              "      <td>6.238137</td>\n",
              "      <td>0.971880</td>\n",
              "      <td>2401.0</td>\n",
              "      <td>2.109842</td>\n",
              "      <td>37.86</td>\n",
              "      <td>-122.22</td>\n",
              "      <td>3.585</td>\n",
              "    </tr>\n",
              "    <tr>\n",
              "      <th>2</th>\n",
              "      <td>7.2574</td>\n",
              "      <td>52.0</td>\n",
              "      <td>8.288136</td>\n",
              "      <td>1.073446</td>\n",
              "      <td>496.0</td>\n",
              "      <td>2.802260</td>\n",
              "      <td>37.85</td>\n",
              "      <td>-122.24</td>\n",
              "      <td>3.521</td>\n",
              "    </tr>\n",
              "    <tr>\n",
              "      <th>3</th>\n",
              "      <td>5.6431</td>\n",
              "      <td>52.0</td>\n",
              "      <td>5.817352</td>\n",
              "      <td>1.073059</td>\n",
              "      <td>558.0</td>\n",
              "      <td>2.547945</td>\n",
              "      <td>37.85</td>\n",
              "      <td>-122.25</td>\n",
              "      <td>3.413</td>\n",
              "    </tr>\n",
              "    <tr>\n",
              "      <th>4</th>\n",
              "      <td>3.8462</td>\n",
              "      <td>52.0</td>\n",
              "      <td>6.281853</td>\n",
              "      <td>1.081081</td>\n",
              "      <td>565.0</td>\n",
              "      <td>2.181467</td>\n",
              "      <td>37.85</td>\n",
              "      <td>-122.25</td>\n",
              "      <td>3.422</td>\n",
              "    </tr>\n",
              "  </tbody>\n",
              "</table>\n",
              "</div>\n",
              "      <button class=\"colab-df-convert\" onclick=\"convertToInteractive('df-dcd39c8f-8530-4e7c-9785-32bd53e299de')\"\n",
              "              title=\"Convert this dataframe to an interactive table.\"\n",
              "              style=\"display:none;\">\n",
              "        \n",
              "  <svg xmlns=\"http://www.w3.org/2000/svg\" height=\"24px\"viewBox=\"0 0 24 24\"\n",
              "       width=\"24px\">\n",
              "    <path d=\"M0 0h24v24H0V0z\" fill=\"none\"/>\n",
              "    <path d=\"M18.56 5.44l.94 2.06.94-2.06 2.06-.94-2.06-.94-.94-2.06-.94 2.06-2.06.94zm-11 1L8.5 8.5l.94-2.06 2.06-.94-2.06-.94L8.5 2.5l-.94 2.06-2.06.94zm10 10l.94 2.06.94-2.06 2.06-.94-2.06-.94-.94-2.06-.94 2.06-2.06.94z\"/><path d=\"M17.41 7.96l-1.37-1.37c-.4-.4-.92-.59-1.43-.59-.52 0-1.04.2-1.43.59L10.3 9.45l-7.72 7.72c-.78.78-.78 2.05 0 2.83L4 21.41c.39.39.9.59 1.41.59.51 0 1.02-.2 1.41-.59l7.78-7.78 2.81-2.81c.8-.78.8-2.07 0-2.86zM5.41 20L4 18.59l7.72-7.72 1.47 1.35L5.41 20z\"/>\n",
              "  </svg>\n",
              "      </button>\n",
              "      \n",
              "  <style>\n",
              "    .colab-df-container {\n",
              "      display:flex;\n",
              "      flex-wrap:wrap;\n",
              "      gap: 12px;\n",
              "    }\n",
              "\n",
              "    .colab-df-convert {\n",
              "      background-color: #E8F0FE;\n",
              "      border: none;\n",
              "      border-radius: 50%;\n",
              "      cursor: pointer;\n",
              "      display: none;\n",
              "      fill: #1967D2;\n",
              "      height: 32px;\n",
              "      padding: 0 0 0 0;\n",
              "      width: 32px;\n",
              "    }\n",
              "\n",
              "    .colab-df-convert:hover {\n",
              "      background-color: #E2EBFA;\n",
              "      box-shadow: 0px 1px 2px rgba(60, 64, 67, 0.3), 0px 1px 3px 1px rgba(60, 64, 67, 0.15);\n",
              "      fill: #174EA6;\n",
              "    }\n",
              "\n",
              "    [theme=dark] .colab-df-convert {\n",
              "      background-color: #3B4455;\n",
              "      fill: #D2E3FC;\n",
              "    }\n",
              "\n",
              "    [theme=dark] .colab-df-convert:hover {\n",
              "      background-color: #434B5C;\n",
              "      box-shadow: 0px 1px 3px 1px rgba(0, 0, 0, 0.15);\n",
              "      filter: drop-shadow(0px 1px 2px rgba(0, 0, 0, 0.3));\n",
              "      fill: #FFFFFF;\n",
              "    }\n",
              "  </style>\n",
              "\n",
              "      <script>\n",
              "        const buttonEl =\n",
              "          document.querySelector('#df-dcd39c8f-8530-4e7c-9785-32bd53e299de button.colab-df-convert');\n",
              "        buttonEl.style.display =\n",
              "          google.colab.kernel.accessAllowed ? 'block' : 'none';\n",
              "\n",
              "        async function convertToInteractive(key) {\n",
              "          const element = document.querySelector('#df-dcd39c8f-8530-4e7c-9785-32bd53e299de');\n",
              "          const dataTable =\n",
              "            await google.colab.kernel.invokeFunction('convertToInteractive',\n",
              "                                                     [key], {});\n",
              "          if (!dataTable) return;\n",
              "\n",
              "          const docLinkHtml = 'Like what you see? Visit the ' +\n",
              "            '<a target=\"_blank\" href=https://colab.research.google.com/notebooks/data_table.ipynb>data table notebook</a>'\n",
              "            + ' to learn more about interactive tables.';\n",
              "          element.innerHTML = '';\n",
              "          dataTable['output_type'] = 'display_data';\n",
              "          await google.colab.output.renderOutput(dataTable, element);\n",
              "          const docLink = document.createElement('div');\n",
              "          docLink.innerHTML = docLinkHtml;\n",
              "          element.appendChild(docLink);\n",
              "        }\n",
              "      </script>\n",
              "    </div>\n",
              "  </div>\n",
              "  "
            ]
          },
          "metadata": {},
          "execution_count": 3
        }
      ]
    },
    {
      "cell_type": "markdown",
      "metadata": {
        "id": "0fMSLjdx9ouU"
      },
      "source": [
        "Agora sim estamos prontos para, de fato, fazer nossas previsões usando redes neurais.\n",
        "\n",
        "Abaixo, podemos ver o código completo, desde a separaç!ão dos dados até o resultado do modelo.\n"
      ]
    },
    {
      "cell_type": "code",
      "metadata": {
        "id": "HgNC-CYc7LZg",
        "colab": {
          "base_uri": "https://localhost:8080/"
        },
        "outputId": "48922fdf-f17a-4eff-8c30-91cb7c8ba71b"
      },
      "source": [
        "# 1. escolher e importar um modelo\n",
        "# Rede Neural usando API SEQUENTIAL\n",
        "\n",
        "# 3. Separar os dados entre feature matrix e target vector\n",
        "X = df.drop('Target', axis=1)\n",
        "y = df['Target']\n",
        "\n",
        "# 3.1 Dividir o dataset entre treino e teste\n",
        "X_train_completo, X_test, y_train_completo, y_test = train_test_split(X, y)\n",
        "\n",
        "# 3.2 Dividir os dados de treino entre treino e validação\n",
        "X_train, X_valid, y_train, y_valid = train_test_split(X_train_completo, y_train_completo)\n",
        "\n",
        "# 3.3 Padronizar os dados (MUITO importante para redes neurais)\n",
        "sc = StandardScaler().fit(X_train)\n",
        "X_train = sc.transform(X_train)\n",
        "X_valid = sc.transform(X_valid)\n",
        "X_test = sc.transform(X_test)\n",
        "\n",
        "# 2. Instanciar e escolher os hyperparameters\n",
        "model = keras.models.Sequential()\n",
        "model.add(keras.layers.Dense(50, input_shape=(X_train.shape[1:]), activation='relu'))\n",
        "model.add(keras.layers.Dense(10, activation='relu'))\n",
        "model.add(keras.layers.Dense(1))\n",
        "\n",
        "# 4. Fit do modelo (treinar)\n",
        "model.compile(optimizer='sgd', loss='mean_squared_error')\n",
        "history = model.fit(X_train, y_train, epochs=25, validation_data=(X_valid, y_valid))\n",
        "\n",
        "# 5. Avaliar o modelo\n",
        "print(model.evaluate(X_test, y_test))\n",
        "\n",
        "# 5.1 Fazer previsões em cima de novos dados\n",
        "y_pred = model.predict(X_test)"
      ],
      "execution_count": 4,
      "outputs": [
        {
          "output_type": "stream",
          "name": "stdout",
          "text": [
            "Epoch 1/25\n",
            "363/363 [==============================] - 7s 6ms/step - loss: 0.8027 - val_loss: 0.4808\n",
            "Epoch 2/25\n",
            "363/363 [==============================] - 1s 3ms/step - loss: 0.4662 - val_loss: 0.4272\n",
            "Epoch 3/25\n",
            "363/363 [==============================] - 1s 3ms/step - loss: 0.4388 - val_loss: 0.4163\n",
            "Epoch 4/25\n",
            "363/363 [==============================] - 1s 3ms/step - loss: 0.4115 - val_loss: 0.3945\n",
            "Epoch 5/25\n",
            "363/363 [==============================] - 1s 3ms/step - loss: 0.3970 - val_loss: 0.3870\n",
            "Epoch 6/25\n",
            "363/363 [==============================] - 1s 3ms/step - loss: 0.3870 - val_loss: 0.3807\n",
            "Epoch 7/25\n",
            "363/363 [==============================] - 1s 3ms/step - loss: 0.3789 - val_loss: 0.3776\n",
            "Epoch 8/25\n",
            "363/363 [==============================] - 1s 3ms/step - loss: 0.3708 - val_loss: 0.3737\n",
            "Epoch 9/25\n",
            "363/363 [==============================] - 1s 3ms/step - loss: 0.3669 - val_loss: 0.3657\n",
            "Epoch 10/25\n",
            "363/363 [==============================] - 1s 3ms/step - loss: 0.3608 - val_loss: 0.3598\n",
            "Epoch 11/25\n",
            "363/363 [==============================] - 1s 3ms/step - loss: 0.3558 - val_loss: 0.3551\n",
            "Epoch 12/25\n",
            "363/363 [==============================] - 1s 4ms/step - loss: 0.3528 - val_loss: 0.3950\n",
            "Epoch 13/25\n",
            "363/363 [==============================] - 1s 3ms/step - loss: 0.3493 - val_loss: 0.3511\n",
            "Epoch 14/25\n",
            "363/363 [==============================] - 1s 3ms/step - loss: 0.3476 - val_loss: 0.3531\n",
            "Epoch 15/25\n",
            "363/363 [==============================] - 1s 3ms/step - loss: 0.3451 - val_loss: 0.3683\n",
            "Epoch 16/25\n",
            "363/363 [==============================] - 1s 3ms/step - loss: 0.3413 - val_loss: 0.3555\n",
            "Epoch 17/25\n",
            "363/363 [==============================] - 1s 3ms/step - loss: 0.3405 - val_loss: 0.3411\n",
            "Epoch 18/25\n",
            "363/363 [==============================] - 1s 3ms/step - loss: 0.3380 - val_loss: 0.3419\n",
            "Epoch 19/25\n",
            "363/363 [==============================] - 1s 3ms/step - loss: 0.3349 - val_loss: 0.3348\n",
            "Epoch 20/25\n",
            "363/363 [==============================] - 1s 3ms/step - loss: 0.3318 - val_loss: 0.3297\n",
            "Epoch 21/25\n",
            "363/363 [==============================] - 1s 3ms/step - loss: 0.3303 - val_loss: 0.3650\n",
            "Epoch 22/25\n",
            "363/363 [==============================] - 1s 3ms/step - loss: 0.3264 - val_loss: 0.3327\n",
            "Epoch 23/25\n",
            "363/363 [==============================] - 1s 4ms/step - loss: 0.3260 - val_loss: 0.3351\n",
            "Epoch 24/25\n",
            "363/363 [==============================] - 1s 4ms/step - loss: 0.3246 - val_loss: 0.3272\n",
            "Epoch 25/25\n",
            "363/363 [==============================] - 1s 3ms/step - loss: 0.3233 - val_loss: 0.3355\n",
            "162/162 [==============================] - 0s 2ms/step - loss: 0.3616\n",
            "0.3616351783275604\n",
            "162/162 [==============================] - 0s 1ms/step\n"
          ]
        }
      ]
    },
    {
      "cell_type": "code",
      "metadata": {
        "id": "f7NlJDy-FXyu",
        "colab": {
          "base_uri": "https://localhost:8080/"
        },
        "outputId": "fa2911da-9b66-4d39-ced3-27d7b4f2967d"
      },
      "source": [
        "# ATENÇÃO para o shape do input\n",
        "print(X_train.shape[1])\n",
        "print(X_train.shape[1:])"
      ],
      "execution_count": 5,
      "outputs": [
        {
          "output_type": "stream",
          "name": "stdout",
          "text": [
            "8\n",
            "(8,)\n"
          ]
        }
      ]
    }
  ]
}